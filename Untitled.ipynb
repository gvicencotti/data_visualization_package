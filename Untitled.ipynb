{
 "cells": [
  {
   "cell_type": "code",
   "execution_count": 1,
   "id": "15785a2b-99ca-422c-83bb-332e9f8b3e98",
   "metadata": {},
   "outputs": [
    {
     "ename": "ModuleNotFoundError",
     "evalue": "No module named 'data_visualization_package'",
     "output_type": "error",
     "traceback": [
      "\u001b[0;31m---------------------------------------------------------------------------\u001b[0m",
      "\u001b[0;31mModuleNotFoundError\u001b[0m                       Traceback (most recent call last)",
      "Cell \u001b[0;32mIn[1], line 1\u001b[0m\n\u001b[0;32m----> 1\u001b[0m \u001b[38;5;28;01mfrom\u001b[39;00m \u001b[38;5;21;01mdata_visualization_package\u001b[39;00m\u001b[38;5;21;01m.\u001b[39;00m\u001b[38;5;21;01mdata_loader\u001b[39;00m \u001b[38;5;28;01mimport\u001b[39;00m load_csv\n\u001b[1;32m      2\u001b[0m \u001b[38;5;28;01mfrom\u001b[39;00m \u001b[38;5;21;01mdata_visualization_package\u001b[39;00m\u001b[38;5;21;01m.\u001b[39;00m\u001b[38;5;21;01mplotter\u001b[39;00m \u001b[38;5;28;01mimport\u001b[39;00m plot_line\n",
      "\u001b[0;31mModuleNotFoundError\u001b[0m: No module named 'data_visualization_package'"
     ]
    }
   ],
   "source": [
    "from data_visualization_package.data_loader import load_csv\n",
    "from data_visualization_package.plotter import plot_line"
   ]
  },
  {
   "cell_type": "code",
   "execution_count": null,
   "id": "8664339f-67bb-48e9-b8a6-a614652f99bc",
   "metadata": {},
   "outputs": [],
   "source": [
    "df = load_csv('Downloads/Teste.csv')"
   ]
  },
  {
   "cell_type": "code",
   "execution_count": null,
   "id": "a0fc476f-b99b-4822-abfe-b18def5a5be3",
   "metadata": {},
   "outputs": [],
   "source": [
    "plot_line(df, 'x_column', 'y_column')"
   ]
  }
 ],
 "metadata": {
  "kernelspec": {
   "display_name": "Python 3 (ipykernel)",
   "language": "python",
   "name": "python3"
  },
  "language_info": {
   "codemirror_mode": {
    "name": "ipython",
    "version": 3
   },
   "file_extension": ".py",
   "mimetype": "text/x-python",
   "name": "python",
   "nbconvert_exporter": "python",
   "pygments_lexer": "ipython3",
   "version": "3.12.4"
  }
 },
 "nbformat": 4,
 "nbformat_minor": 5
}
